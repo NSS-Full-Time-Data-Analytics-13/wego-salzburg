import pandas as pd


pd.read_csv(Headway Data.csv)



